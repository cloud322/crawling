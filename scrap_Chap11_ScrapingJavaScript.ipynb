{
 "cells": [
  {
   "cell_type": "markdown",
   "metadata": {},
   "source": [
    "# CHAPTER 11  \n",
    "***  \n",
    "# Scraping JavaScript"
   ]
  },
  {
   "cell_type": "markdown",
   "metadata": {},
   "source": [
    "frequently encounter only two languages online: \n",
    " - Action‐Script (which is used by Flash applications) \n",
    " - JavaScript  \n",
    "  - `JavaScript` is, by far, the most common and most well-supported `client-side` scripting language on the web today.  \n",
    "  - can be used to collect information for user tracking, submit forms without reloading the page, embed multimedia, and even power entire online games.  \n",
    "  - You can find it embedded between `script` tags in the page’s source code:"
   ]
  },
  {
   "cell_type": "markdown",
   "metadata": {},
   "source": [
    "<script>\n",
    "alert(\"This creates a pop-up using JavaScript\"); \n",
    "</script>"
   ]
  },
  {
   "cell_type": "markdown",
   "metadata": {},
   "source": [
    "## A Brief Introduction to JavaScript  \n",
    "***  \n",
    "JavaScript  \n"
   ]
  },
  {
   "cell_type": "markdown",
   "metadata": {
    "ExecuteTime": {
     "end_time": "2020-07-03T09:09:53.164787Z",
     "start_time": "2020-07-03T09:09:53.155527Z"
    }
   },
   "source": [
    "<script>\n",
    "function fibonacci(a, b){\n",
    "    varnextNum=a+b;\n",
    "    console.log(nextNum+\" is in the Fibonacci sequence\"); \n",
    "    if(nextNum < 100){\n",
    "        fibonacci(b, nextNum);\n",
    "    }\n",
    "}\n",
    "fibonacci(1, 1); \n",
    "</script>"
   ]
  },
  {
   "cell_type": "markdown",
   "metadata": {},
   "source": [
    "## Common JavaScript Libraries  \n",
    "***  \n",
    "Executing JavaScript by using Python can be extremely time-consuming and pro‐ cessor intensive, especially if you’re doing it on a large scale. "
   ]
  },
  {
   "cell_type": "markdown",
   "metadata": {},
   "source": [
    "### jQuery  \n",
    "***  \n",
    "jQuery is an extremely common library, used by 70% of the most popular internet sites  \n",
    " - site using jQuery is readily identifiable  \n",
    " - If jQuery is found on a site, you must be careful when scraping it.  \n",
    "  - dynamically creating HTML content that appears only after the JavaScript is executed"
   ]
  },
  {
   "cell_type": "markdown",
   "metadata": {},
   "source": [
    "<script src=\"http://ajax.googleapis.com/ajax/libs/jquery/1.9.1/jquery.min.js\"></ script>"
   ]
  },
  {
   "cell_type": "markdown",
   "metadata": {},
   "source": [
    "### Google Analytics  \n",
    "***  \n",
    "the most common JavaScript library and the most popular user tracking tool on the internet.  \n",
    "Determining whether a page is using Google Analytics is easy.  \n",
    " - will have JavaScript at the bottom  \n",
    "<br>  \n",
    "\n",
    "If a site uses Google Analytics or a similar web analytics system, and you do not want the site to know that it’s being crawled or scraped,   \n",
    " - make sure to discard any cookies used for analytics or discard cookies altogether."
   ]
  },
  {
   "cell_type": "markdown",
   "metadata": {},
   "source": [
    "This script handles Google Analytics–specific cookies used to track your visit from page to page.  \n",
    " - can sometimes be a problem for web scrapers that are designed to execute JavaScript and handle cookies (such as those that use Selenium)\n",
    "\n",
    "<!-- Google Analytics -->\n",
    "<script type=\"text/javascript\">\n",
    "var _gaq = _gaq || []; _gaq.push(['_setAccount', 'UA-4591498-1']); _gaq.push(['_setDomainName', 'oreilly.com']); _gaq.push(['_addIgnoredRef', 'oreilly.com']); _gaq.push(['_setSiteSpeedSampleRate', 50]); _gaq.push(['_trackPageview']);\n",
    "  \n",
    "(function() { var ga = document.createElement('script'); ga.type = 'text/javascript'; ga.async = true; ga.src = ('https:' == document.location.protocol ? 'https://ssl' : 'http://www') + '.google-analytics.com/ga.js'; var s = document.getElementsByTagName('script')[0]; s.parentNode.insertBefore(ga, s); })();\n",
    "</script>"
   ]
  },
  {
   "cell_type": "markdown",
   "metadata": {},
   "source": [
    "## Google Maps    \n",
    "***  \n",
    "One of the most common ways to denote a location in Google Maps is through a marker (also known as a pin).  \n",
    " - Python makes it easy to `extract all instances of coordinates` that occur between <font color=pink>google.maps.LatLng</font>( and ) to `obtain a list of latitude/longitude `coordinates."
   ]
  },
  {
   "cell_type": "code",
   "execution_count": null,
   "metadata": {},
   "outputs": [],
   "source": [
    "# Markers can be inserted into any Google Map by \n",
    "var marker = new google.maps.Marker({\n",
    "    position: new google.maps.LatLng(-25.363882,131.044922), map: map,title: 'Some marker text'\n",
    "});"
   ]
  },
  {
   "cell_type": "markdown",
   "metadata": {},
   "source": [
    "## Ajax and Dynamic HTML  \n",
    "***   \n",
    "###  Ajax\n",
    "Until now, the only way we’ve had of communicating with a web server is to `send it some sort of HTTP request` via the retrieval of a new page.     \n",
    "<br>  \n",
    "\n",
    "Ajax is not a language but a group of technologies used to accomplish a certain task   \n",
    " - `Asynchronous JavaScript and XML`(Ajax)  \n",
    " -  is used to send information to and receive it from a web server without making a separate page request  \n",
    " - his website will be written in Ajax.” -> X  \n",
    " “This form will use Ajax to communicate with the web server -> O  \n",
    "  \n",
    "### dynamic HTML (DHTML)   \n",
    "is a collection of technologies used for a common purpose  \n",
    "HTML code, CSS language, or both that changes as client-side scripts change HTML elements on the page\n",
    " - boring, static-looking pages on the internet can have DHTML processes running behind  \n",
    "<br>  \n",
    "\n",
    "Both of these are caused by a failure of your scraper to execute the JavaScript  \n",
    "\n",
    " - content you are viewing in your browser does not match the content you see in the source code you’re retrieving from the site.  \n",
    "  \n",
    " - The web page might also have a loading page that appears to redirect you to another page of results  \n",
    "  - notice that the page’s URL never changes when this redirect happens.  \n",
    " - only two solutions:   \n",
    "  - scrape the content directly from the JavaScript;   \n",
    "  - or use Python packages capable of executing the JavaScript itself, and scrape the website as you view it in your browser."
   ]
  },
  {
   "cell_type": "markdown",
   "metadata": {},
   "source": [
    "# Executing JavaScript in Python with Selenium  \n",
    "***  \n",
    "Selenium does not contain its own web browser;   \n",
    " - it requires integration with third- party browsers in order to run.   \n",
    " - prefer my scripts to run quietly in the background, so I use a tool called `PhantomJS` in lieu of an actual browser  \n",
    " #### PhantomJS   \n",
    "  - is what is known as a headless browser  \n",
    "  - loads websites into memory and executes JavaScript on the page  \n",
    "\n",
    "By combining Selenium with PhantomJS, you can run an extremely powerful web scraper that handles cookies, JavaScript, headers, and everything else you need with ease.  \n",
    "####  Selenium    \n",
    " - https://pypi.org/project/selenium/\n",
    " - pip install -U selenium  \n",
    "\n",
    "#### PhantomJS  \n",
    " - https://phantomjs.org/download.html  \n",
    " - cannot be installed with pip.  \n",
    " - brew cask install phantomjs"
   ]
  },
  {
   "cell_type": "markdown",
   "metadata": {},
   "source": [
    "This page contains some sample text, hardcoded into the page’s HTML, that is replaced by Ajax-generated content after a two-second delay.  \n",
    " - scrape this page’s data by using traditional methods, you’d get only the loading page, without getting the data that you want.  \n",
    "\n",
    "Selenium library   \n",
    " - is an API called on the object WebDriver.   \n",
    " - The WebDriver is a bit like a browser in that it can load websites, but it can also be used like a BeautifulSoup object to find page elements, interact with elements on the page (send text, click, etc.), and do other actions to drive the web scrapers."
   ]
  },
  {
   "attachments": {
    "image.png": {
     "image/png": "[encoded data removed]"
    }
   },
   "cell_type": "markdown",
   "metadata": {},
   "source": [
    "http://pythonscraping.com/pages/javascript/ajaxDemo.html  \n",
    "<font color=gray>2초동안</font>\n",
    "![image.png](attachment:image.png)"
   ]
  },
  {
   "attachments": {
    "image.png": {
     "image/png": "[encoded data removed]"
    }
   },
   "cell_type": "markdown",
   "metadata": {},
   "source": [
    "![image.png](attachment:image.png)"
   ]
  },
  {
   "cell_type": "code",
   "execution_count": 10,
   "metadata": {
    "ExecuteTime": {
     "end_time": "2020-07-05T05:42:41.393665Z",
     "start_time": "2020-07-05T05:42:35.141342Z"
    }
   },
   "outputs": [
    {
     "name": "stdout",
     "output_type": "stream",
     "text": [
      "Here is some important text you want to retrieve!\n",
      "A button to click!\n"
     ]
    }
   ],
   "source": [
    "# code retrieves text behind an Ajax “wall” on the test page:    \n",
    "# This creates a new Selenium WebDriver, using the PhantomJS library\n",
    "\n",
    "from selenium import webdriver \n",
    "import time\n",
    "\n",
    "driver = webdriver.PhantomJS(executable_path='/usr/local/bin/phantomjs') \n",
    "#  need to point Selenium in the right direction when creating a new PhantomJS Web‐Driver:\n",
    "# 'usr/x/x/phantomjs-2.1.1-macosx/bin/phantomjs'\n",
    "\n",
    "driver.get('http://pythonscraping.com/pages/javascript/ajaxDemo.html') \n",
    "# WebDriver to load a page \n",
    "\n",
    "time.sleep(3)\n",
    "# and then pauses execution for three seconds before looking at the page \n",
    "\n",
    "print(driver.find_element_by_id('content').text)\n",
    "# to retrieve the (hopefully loaded) content.\n",
    "# although the page itself contains an HTML button, \n",
    "# Selenium’s text function retrieves the text value of the button.\n",
    "\n",
    "driver.close()"
   ]
  },
  {
   "cell_type": "code",
   "execution_count": 11,
   "metadata": {
    "ExecuteTime": {
     "end_time": "2020-07-05T05:47:13.335390Z",
     "start_time": "2020-07-05T05:47:09.893166Z"
    }
   },
   "outputs": [
    {
     "name": "stdout",
     "output_type": "stream",
     "text": [
      "This is some content that will appear on the page while it's loading. You don't care about scraping this.\n"
     ]
    }
   ],
   "source": [
    "# phantomJS 1 second\n",
    "\n",
    "from selenium import webdriver \n",
    "import time\n",
    "\n",
    "driver = webdriver.PhantomJS(executable_path='/usr/local/bin/phantomjs') \n",
    "driver.get('http://pythonscraping.com/pages/javascript/ajaxDemo.html') \n",
    "time.sleep(1)\n",
    "# and then pauses 1 second \n",
    "\n",
    "print(driver.find_element_by_id('content').text)\n",
    "\n",
    "driver.close()"
   ]
  },
  {
   "cell_type": "code",
   "execution_count": 24,
   "metadata": {
    "ExecuteTime": {
     "end_time": "2020-07-05T06:43:44.048052Z",
     "start_time": "2020-07-05T06:43:36.570923Z"
    }
   },
   "outputs": [
    {
     "name": "stdout",
     "output_type": "stream",
     "text": [
      "Here is some important text you want to retrieve!\n",
      "A button to click!\n"
     ]
    }
   ],
   "source": [
    "# chrome 3 seconds\n",
    "\n",
    "from selenium import webdriver\n",
    "from selenium.webdriver.chrome.options import Options\n",
    "import time\n",
    "\n",
    "chrome_options = Options()\n",
    "chrome_options.add_argument(\"--headless\")\n",
    "driver = webdriver.Chrome(\n",
    "    executable_path='/usr/local/bin/chromedriver', \n",
    "    options=chrome_options)\n",
    "driver.get('http://pythonscraping.com/pages/javascript/ajaxDemo.html')\n",
    "time.sleep(3)\n",
    "print(driver.find_element_by_id('content').text)\n",
    "driver.close()"
   ]
  },
  {
   "cell_type": "markdown",
   "metadata": {},
   "source": [
    "# Selenium Selectors   \n",
    "***  \n",
    " previously you’ve selected page elements by using <font color=green>BeautifulSoup</font> selectors, such as <font color=pink>find</font> and <font color=pink>find_all</font>.   \n",
    " -  used the selector <font color=pink>find_element_by_id</font> \n",
    "       \n",
    "       driver.find_element_by_css_selector('#content')  \n",
    "       driver.find_element_by_tag_name('div')  \n",
    " - If you want to select multiple elements on the page these element selectors can return a Python list of elements by using <font color=pink>elements</font> (i.e., make it plural):  \n",
    " \n",
    "       driver.find_elements_by_css_selector('#content')  \n",
    "       driver.find_elements_by_css_selector('div')\n",
    "\n",
    " \n",
    "\n",
    "#### If you still want to use BeautifulSoup to parse this content  \n",
    " - by using Web‐Driver’s <font color=pink>page_source</font> function, which returns the page’s source, as viewed by the DOM at that current time, as a string:  \n",
    "         pageSource = driver.page_source  \n",
    "         bs = BeautifulSoup(pageSource, 'html.parser')  \n",
    "         print(bs.find(id='content').get_text())"
   ]
  },
  {
   "cell_type": "markdown",
   "metadata": {},
   "source": [
    " #### Page-load times are inconsistent  \n",
    "  - more efficient solution would repeatedly check for the existence of a particular element on a fully loaded page and return only when that element exists:  \n",
    "\n",
    "<br>  \n",
    "implicit wait differs from an explicit wait   \n",
    " - `implicit wait` waits for a certain state in the DOM to occur before continuing,   \n",
    " - `explicit wait` defines a hardcoded time.    \n",
    " - `locator` is used to find elements with the ID  \n",
    " - `Locators` can also be used to create selectors, using the <font color=pink>find_element </font>WebDriver function:  \n",
    " - `locator` handy tool is used for a variety of applications and has a great degree of flexibility.\n",
    " \n",
    " <font color=pink></font>"
   ]
  },
  {
   "cell_type": "markdown",
   "metadata": {},
   "source": [
    "<font color=pink>ID</font>  \n",
    " - finds elements by their HTML `id` attribute.  \n",
    "\n",
    "<font color=pink>CLASS_NAME</font>\n",
    " - Used to find elements by their HTML class attribute.  \n",
    "  \n",
    "<font color=pink>SS_SELECTOR</font>  \n",
    " - Finds elements by their class, `id`, or `tag name`, using the #idName, .className, tagName convention.  \n",
    "\n",
    "<font color=pink>LINK_TEXT</font>  \n",
    " - Finds HTML \\< a \\> tags by the text they contain. For example, a link labeled “Next” can be selected using (By.LINK_TEXT, \"Next\").  \n",
    "\n",
    "<font color=pink>PARTIAL_LINK_TEXT</font>\n",
    " - Similar to `LINK_TEXT`, but matches on a partial string.  \n",
    "\n",
    "<font color=pink>NAME</font>\n",
    " - Finds HTML tags by their `name attribute`. This is handy for HTML forms.  \n",
    "\n",
    "<font color=pink>TAG_NAME</font>\n",
    " - Finds HTML tags by their `tag name`.  \n",
    "\n",
    "<font color=pink>XPATH</font>\n",
    " - Uses an `XPath expression` (the syntax of which is described in the following sidebar) to select matching elements.\n",
    "<font color=pink></font>"
   ]
  },
  {
   "cell_type": "code",
   "execution_count": 15,
   "metadata": {
    "ExecuteTime": {
     "end_time": "2020-07-05T05:52:42.425721Z",
     "start_time": "2020-07-05T05:52:35.741861Z"
    }
   },
   "outputs": [
    {
     "name": "stderr",
     "output_type": "stream",
     "text": [
      "/Users/j/handsonml/my_env/lib/python3.7/site-packages/selenium/webdriver/phantomjs/webdriver.py:49: UserWarning: Selenium support for PhantomJS has been deprecated, please use headless versions of Chrome or Firefox instead\n",
      "  warnings.warn('Selenium support for PhantomJS has been deprecated, please use headless '\n"
     ]
    },
    {
     "name": "stdout",
     "output_type": "stream",
     "text": [
      "Here is some important text you want to retrieve!\n",
      "A button to click!\n"
     ]
    }
   ],
   "source": [
    "# PhantomJS\n",
    "from selenium import webdriver\n",
    "from selenium.webdriver.common.by import By\n",
    "\n",
    "from selenium.webdriver.support.ui import WebDriverWait\n",
    "from selenium.webdriver.support import expected_conditions as EC\n",
    "# WebDriverWait and expected_conditions, \n",
    "# both of which are combined here to form what Selenium calls an implicit wait.\n",
    "# implicit wait, the triggering DOM state is defined by expected_condition\n",
    "\n",
    "\n",
    "\n",
    "driver = webdriver.PhantomJS(executable_path='/usr/local/bin/phantomjs') \n",
    "driver.get('http://pythonscraping.com/pages/javascript/ajaxDemo.html') \n",
    "try:\n",
    "    element = WebDriverWait(driver, 10).until(\n",
    "        EC.presence_of_element_located((By.ID, 'loadedButton')))\n",
    "        # locator is used to find elements with the ID loadedButton:\n",
    "        # (EC <- expected_condition , a common convention used for brevity)\n",
    "finally: \n",
    "    print(driver.find_element_by_id('content').text) \n",
    "    driver.close()"
   ]
  },
  {
   "cell_type": "code",
   "execution_count": 25,
   "metadata": {
    "ExecuteTime": {
     "end_time": "2020-07-05T06:44:04.912372Z",
     "start_time": "2020-07-05T06:43:58.377284Z"
    }
   },
   "outputs": [
    {
     "name": "stdout",
     "output_type": "stream",
     "text": [
      "Here is some important text you want to retrieve!\n",
      "A button to click!\n"
     ]
    }
   ],
   "source": [
    "# chrome\n",
    "\n",
    "from selenium import webdriver\n",
    "from selenium.webdriver.common.by import By\n",
    "from selenium.webdriver.support.ui import WebDriverWait\n",
    "from selenium.webdriver.support import expected_conditions as EC\n",
    "\n",
    "chrome_options = Options()\n",
    "chrome_options.add_argument(\"--headless\")\n",
    "driver = webdriver.Chrome(\n",
    "    executable_path='/usr/local/bin/chromedriver',\n",
    "    options=chrome_options)\n",
    "\n",
    "driver.get('http://pythonscraping.com/pages/javascript/ajaxDemo.html')\n",
    "try:\n",
    "    element = WebDriverWait(driver, 10).until(\n",
    "                       EC.presence_of_element_located((By.ID, 'loadedButton')))\n",
    "finally:\n",
    "    print(driver.find_element_by_id('content').text)\n",
    "    driver.close()"
   ]
  },
  {
   "cell_type": "markdown",
   "metadata": {},
   "source": [
    "#### xPATH  \n",
    "***  \n"
   ]
  },
  {
   "cell_type": "markdown",
   "metadata": {},
   "source": [
    "## Additional Selenium Webdrivers  \n",
    "***  \n",
    " - If your code is running PhantomJS and fails  \n",
    " - Tests may depend on a specific browser in order to run.  \n",
    " - unusually finicky website or script may behave slightly differently on different browsers. Your code simply may not work in PhantomJS.  \n",
    " https://selenium.dev/downloads  \n",
    "   \n",
    "<br>  \n",
    "       \n",
    "    firefox_driver = webdriver.Firefox('<path to Firefox webdriver>')  \n",
    "    chrome_driver = webdriver.Chrome('<path to Chrome webdriver>') \n",
    "    safari_driver = webdriver.Safari('<path to Safari webdriver>')  \n",
    "    ie_driver = webdriver.Ie('<path to Internet Explorer webdriver>')\n",
    "\n"
   ]
  },
  {
   "cell_type": "markdown",
   "metadata": {},
   "source": [
    "### Handling Redirects\n",
    "***  \n",
    "page redirects that are executed in your browser by Java‐ Script, rather than a redirect performed on the server  \n",
    "  \n",
    "It can sometimes be tricky to tell the difference when visiting a page in your web browser.  - The redirect might happen so fast  \n",
    "- assume that a client-side redirect is actually a server-side redirect  \n",
    "- `A server-side` redirect,   \n",
    " - depending on how it is handled, can be easily traversed by Python’s <font color=pink>urllib</font> library  \n",
    "- `Client-side` redirects   \n",
    " - won’t be handled at all unless something is executing the Java‐Script.  \n",
    "- `primary issue` with these redirects is when to stop page execution—that is, how to tell when a page is done redirecting"
   ]
  },
  {
   "cell_type": "code",
   "execution_count": 30,
   "metadata": {
    "ExecuteTime": {
     "end_time": "2020-07-05T06:51:31.361111Z",
     "start_time": "2020-07-05T06:51:19.520082Z"
    }
   },
   "outputs": [
    {
     "name": "stdout",
     "output_type": "stream",
     "text": [
      "Timing out after 10 seconds and returning\n",
      "<html><head>\n",
      "<title>The Destination Page!</title>\n",
      "\n",
      "</head>\n",
      "<body>\n",
      "This is the page you are looking for!\n",
      "\n",
      "</body></html>\n"
     ]
    }
   ],
   "source": [
    "# StaleElementReferenceException;   \n",
    "# the element is no longer attached to the page’s DOM and the site has redirected:\n",
    "\n",
    "from selenium import webdriver\n",
    "import time\n",
    "from selenium.webdriver.remote.webelement import WebElement\n",
    "from selenium.common.exceptions import StaleElementReferenceException\n",
    "\n",
    "def waitForLoad(driver):\n",
    "    elem = driver.find_element_by_tag_name(\"html\") \n",
    "    count = 0\n",
    "    while True:\n",
    "        count += 1\n",
    "        if count > 20:\n",
    "            print('Timing out after 10 seconds and returning')\n",
    "            return\n",
    "        time.sleep(.5) \n",
    "        #  script checks the page every half second, with a time-out of 10 seconds(0.5 x 20=10)\n",
    "        \n",
    "        try:\n",
    "            elem == driver.find_element_by_tag_name('html') \n",
    "        except StaleElementReferenceException:\n",
    "            return\n",
    "driver = webdriver.PhantomJS(executable_path='/usr/local/bin/phantomjs') \n",
    "driver.get('http://pythonscraping.com/pages/javascript/redirectDemo1.html') \n",
    "waitForLoad(driver)\n",
    "print(driver.page_source)\n"
   ]
  },
  {
   "cell_type": "code",
   "execution_count": 26,
   "metadata": {
    "ExecuteTime": {
     "end_time": "2020-07-05T06:44:51.950041Z",
     "start_time": "2020-07-05T06:44:38.675630Z"
    }
   },
   "outputs": [
    {
     "name": "stdout",
     "output_type": "stream",
     "text": [
      "Timing out after 10 seconds and returning\n",
      "<html><head>\n",
      "<title>The Destination Page!</title>\n",
      "\n",
      "</head>\n",
      "<body>\n",
      "This is the page you are looking for!\n",
      "\n",
      "</body></html>\n"
     ]
    }
   ],
   "source": [
    "# chrome\n",
    "\n",
    "from selenium import webdriver\n",
    "from selenium.webdriver.chrome.options import Options\n",
    "from selenium.webdriver.remote.webelement import WebElement\n",
    "from selenium.common.exceptions import StaleElementReferenceException\n",
    "import time\n",
    "\n",
    "def waitForLoad(driver):\n",
    "    elem = driver.find_element_by_tag_name(\"html\")\n",
    "    count = 0\n",
    "    while True:\n",
    "        count += 1\n",
    "        if count > 20:\n",
    "            print(\"Timing out after 10 seconds and returning\")\n",
    "            return\n",
    "        time.sleep(.5)\n",
    "        try:\n",
    "            elem == driver.find_element_by_tag_name(\"html\")\n",
    "        except StaleElementReferenceException:\n",
    "            return\n",
    "chrome_options = Options()\n",
    "chrome_options.add_argument(\"--headless\")\n",
    "driver = webdriver.Chrome(\n",
    "    executable_path='/usr/local/bin/chromedriver',\n",
    "    options=chrome_options)\n",
    "driver.get(\"http://pythonscraping.com/pages/javascript/redirectDemo1.html\")\n",
    "waitForLoad(driver)\n",
    "print(driver.page_source)\n",
    "driver.close()"
   ]
  },
  {
   "cell_type": "markdown",
   "metadata": {},
   "source": [
    "#### Alternatively, you can write a similar loop checking the current URL of the page until the URL changes,  or it matches a specific URL that you’re looking for.\n",
    " -  time-out of 15 seconds and an XPath selector that looks for the page body content "
   ]
  },
  {
   "cell_type": "code",
   "execution_count": 29,
   "metadata": {
    "ExecuteTime": {
     "end_time": "2020-07-05T06:48:36.440412Z",
     "start_time": "2020-07-05T06:48:31.932947Z"
    }
   },
   "outputs": [
    {
     "name": "stdout",
     "output_type": "stream",
     "text": [
      "This is the page you are looking for!\n"
     ]
    }
   ],
   "source": [
    "\n",
    "from selenium.webdriver.common.by import By\n",
    "from selenium.webdriver.support.ui import WebDriverWait\n",
    "from selenium.webdriver.chrome.options import Options\n",
    "from selenium.webdriver.support import expected_conditions as EC\n",
    "from selenium.common.exceptions import TimeoutException\n",
    "\n",
    "chrome_options = Options()\n",
    "chrome_options.add_argument(\"--headless\")\n",
    "driver = webdriver.Chrome(\n",
    "    executable_path='/usr/local/bin/chromedriver', \n",
    "    options=chrome_options)\n",
    "driver.get('http://pythonscraping.com/pages/javascript/redirectDemo1.html')\n",
    "try:\n",
    "    bodyElement = WebDriverWait(driver, 15).until(EC.presence_of_element_located(\n",
    "        (By.XPATH, '//body[contains(text(), \"This is the page you are looking for!\")]')))\n",
    "    print(bodyElement.text)\n",
    "except TimeoutException:\n",
    "    print('Did not find the element')"
   ]
  },
  {
   "cell_type": "markdown",
   "metadata": {},
   "source": [
    "# A Final Note on JavaScript  \n",
    "***  \n",
    "Most sites today on the internet use JavaScript  \n",
    " -  tracking tools, \n",
    " - controlling a small section of the site,   \n",
    " - or manipulating a drop-down menu  \n",
    " - Once Selenium is used, the HTML and CSS on the page can be read and parsed as you would with any other website code  \n",
    " -  HTTP requests and responses can be sent and handled by your code via the techniques in earlier chapters, even without using Selenium.  \n",
    "\n",
    "`JavaScript can even be a benefit` to web scrapers, because its use as a “browser-side content management system  \n",
    " - useful APIs, For more information on this, <font color=green>see Chapter 12</font>.  \n",
    " - can find information on Selenium and interacting directly with dynamic websites, including drag-and-drop interfaces, in <font color=green>Chapter 14</font>."
   ]
  },
  {
   "cell_type": "code",
   "execution_count": null,
   "metadata": {},
   "outputs": [],
   "source": []
  }
 ],
 "metadata": {
  "kernelspec": {
   "display_name": "Python 3",
   "language": "python",
   "name": "python3"
  },
  "language_info": {
   "codemirror_mode": {
    "name": "ipython",
    "version": 3
   },
   "file_extension": ".py",
   "mimetype": "text/x-python",
   "name": "python",
   "nbconvert_exporter": "python",
   "pygments_lexer": "ipython3",
   "version": "3.7.7"
  }
 },
 "nbformat": 4,
 "nbformat_minor": 4
}
